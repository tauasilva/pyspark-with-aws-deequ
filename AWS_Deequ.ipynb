{
 "cells": [
  {
   "cell_type": "code",
   "execution_count": 1,
   "metadata": {},
   "outputs": [],
   "source": [
    "import os"
   ]
  },
  {
   "cell_type": "markdown",
   "metadata": {},
   "source": [
    "# Prepara ambiente"
   ]
  },
  {
   "cell_type": "markdown",
   "metadata": {},
   "source": [
    "### Para este teste estou usando a versão spark-3.1.2-bin-hadoop3.2"
   ]
  },
  {
   "cell_type": "code",
   "execution_count": 2,
   "metadata": {},
   "outputs": [],
   "source": [
    "os.environ['SPARK_HOME'] = '/c/spark-3.1.2-bin-hadoop3.2'"
   ]
  },
  {
   "cell_type": "markdown",
   "metadata": {},
   "source": [
    "### instala o pydeequ "
   ]
  },
  {
   "cell_type": "markdown",
   "metadata": {},
   "source": [
    "https://github.com/awslabs/python-deequ"
   ]
  },
  {
   "cell_type": "code",
   "execution_count": 3,
   "metadata": {},
   "outputs": [
    {
     "name": "stdout",
     "output_type": "stream",
     "text": [
      "Defaulting to user installation because normal site-packages is not writeable\n",
      "Requirement already satisfied: pydeequ in /home/taua/.local/lib/python3.8/site-packages (1.0.1)\n",
      "Requirement already satisfied: pandas>=0.23.0 in /home/taua/.local/lib/python3.8/site-packages (from pydeequ) (1.3.3)\n",
      "Requirement already satisfied: numpy>=1.14.1 in /home/taua/.local/lib/python3.8/site-packages (from pydeequ) (1.21.2)\n",
      "Requirement already satisfied: python-dateutil>=2.7.3 in /usr/lib/python3/dist-packages (from pandas>=0.23.0->pydeequ) (2.7.3)\n",
      "Requirement already satisfied: pytz>=2017.3 in /home/taua/.local/lib/python3.8/site-packages (from pandas>=0.23.0->pydeequ) (2021.1)\n",
      "Defaulting to user installation because normal site-packages is not writeable\n",
      "Requirement already satisfied: pyspark in /home/taua/.local/lib/python3.8/site-packages (3.1.2)\n",
      "Requirement already satisfied: py4j==0.10.9 in /home/taua/.local/lib/python3.8/site-packages (from pyspark) (0.10.9)\n"
     ]
    }
   ],
   "source": [
    "!pip install pydeequ\n",
    "!pip install pyspark"
   ]
  },
  {
   "cell_type": "code",
   "execution_count": 4,
   "metadata": {},
   "outputs": [
    {
     "name": "stderr",
     "output_type": "stream",
     "text": [
      "Please set env variable SPARK_VERSION\n"
     ]
    }
   ],
   "source": [
    "from pyspark.sql import SparkSession, Row\n",
    "\n",
    "import pydeequ\n",
    "\n",
    "spark = (SparkSession\n",
    "            .builder\n",
    "            .config(\"spark.jars.packages\", pydeequ.deequ_maven_coord)\n",
    "            .config(\"spark.jars.excludes\", pydeequ.f2j_maven_coord)\n",
    "            .getOrCreate())"
   ]
  },
  {
   "cell_type": "markdown",
   "metadata": {},
   "source": [
    "### Executando um teste para verificar se a sessão spark esta correta"
   ]
  },
  {
   "cell_type": "code",
   "execution_count": 5,
   "metadata": {},
   "outputs": [
    {
     "data": {
      "text/html": [
       "<div>\n",
       "<style scoped>\n",
       "    .dataframe tbody tr th:only-of-type {\n",
       "        vertical-align: middle;\n",
       "    }\n",
       "\n",
       "    .dataframe tbody tr th {\n",
       "        vertical-align: top;\n",
       "    }\n",
       "\n",
       "    .dataframe thead th {\n",
       "        text-align: right;\n",
       "    }\n",
       "</style>\n",
       "<table border=\"1\" class=\"dataframe\">\n",
       "  <thead>\n",
       "    <tr style=\"text-align: right;\">\n",
       "      <th></th>\n",
       "      <th>coluna1</th>\n",
       "      <th>valor</th>\n",
       "      <th>quantidade</th>\n",
       "    </tr>\n",
       "  </thead>\n",
       "  <tbody>\n",
       "    <tr>\n",
       "      <th>0</th>\n",
       "      <td>Banana</td>\n",
       "      <td>1.50</td>\n",
       "      <td>5.0</td>\n",
       "    </tr>\n",
       "    <tr>\n",
       "      <th>1</th>\n",
       "      <td>Maça</td>\n",
       "      <td>1.85</td>\n",
       "      <td>6.0</td>\n",
       "    </tr>\n",
       "    <tr>\n",
       "      <th>2</th>\n",
       "      <td>Laranja</td>\n",
       "      <td>3.00</td>\n",
       "      <td>NaN</td>\n",
       "    </tr>\n",
       "  </tbody>\n",
       "</table>\n",
       "</div>"
      ],
      "text/plain": [
       "   coluna1  valor  quantidade\n",
       "0   Banana   1.50         5.0\n",
       "1     Maça   1.85         6.0\n",
       "2  Laranja   3.00         NaN"
      ]
     },
     "execution_count": 5,
     "metadata": {},
     "output_type": "execute_result"
    }
   ],
   "source": [
    "df_test = spark.sparkContext.parallelize([\n",
    "    Row(coluna1=\"Banana\",  valor=1.50, quantidade=5),\n",
    "    Row(coluna1=\"Maça\",    valor=1.85, quantidade=6),\n",
    "    Row(coluna1=\"Laranja\", valor=3.00, quantidade=None)]).toDF()\n",
    "\n",
    "\n",
    "df_test.toPandas()"
   ]
  },
  {
   "cell_type": "markdown",
   "metadata": {},
   "source": [
    "### Agora que sabemos que nossa sessão spark esta correta, vamos importar um fonte de dados e criar nosso dataframe"
   ]
  },
  {
   "cell_type": "markdown",
   "metadata": {},
   "source": [
    "## Importando dados "
   ]
  },
  {
   "cell_type": "markdown",
   "metadata": {},
   "source": [
    "Para este exemplo vou utilizar um parte dos dados de empresas brasileiras.\n",
    "Estes dados são disponibilizados em .zip pelo governo federal\n",
    "\n",
    "https://www.gov.br/receitafederal/pt-br/assuntos/orientacao-tributaria/cadastros/consultas/dados-publicos-cnpj\n",
    "\n",
    "São vários zips, para facilitar salver um dos arquivos sem ./fonte_de_dados"
   ]
  },
  {
   "cell_type": "code",
   "execution_count": 6,
   "metadata": {},
   "outputs": [],
   "source": [
    "from pyspark.sql.types import StructType,StructField, StringType\n",
    "\n",
    "schema = StructType([ \\\n",
    "    StructField(\"cnpj_basico\",StringType(),True), \\\n",
    "    StructField(\"razao_social\",StringType(),True), \\\n",
    "    StructField(\"natureza_juridica\",StringType(),True), \\\n",
    "    StructField(\"qualificacao_do_responsavel\", StringType(), True), \\\n",
    "    StructField(\"capital_social\", StringType(), True), \\\n",
    "    StructField(\"porte_da_empresa\", StringType(), True),\n",
    "    StructField(\"ente_federativo_responsavel\", StringType(), True),\n",
    "  ])\n",
    "\n",
    "\n",
    "#detalhes sobre o layout em https://www.gov.br/receitafederal/pt-br/assuntos/orientacao-tributaria/cadastros/consultas/arquivos/novolayoutdosdadosabertosdocnpj-dez2021.pdf"
   ]
  },
  {
   "cell_type": "code",
   "execution_count": 7,
   "metadata": {},
   "outputs": [
    {
     "name": "stdout",
     "output_type": "stream",
     "text": [
      "+-----------+--------------------+-----------------+---------------------------+--------------+----------------+---------------------------+\n",
      "|cnpj_basico|        razao_social|natureza_juridica|qualificacao_do_responsavel|capital_social|porte_da_empresa|ente_federativo_responsavel|\n",
      "+-----------+--------------------+-----------------+---------------------------+--------------+----------------+---------------------------+\n",
      "|   00000000|  BANCO DO BRASIL SA|             2038|                         10|90000000000,00|              05|                       null|\n",
      "|   00000001|ASSOCIACAO DE AMI...|             3999|                         16|          0,00|              05|                       null|\n",
      "|   00000002|WM&R EMPREITEIRA ...|             2240|                         49|          0,00|              05|                       null|\n",
      "|   00000003|CASA CARIDADE LUZ...|             3999|                         16|          0,00|              05|                       null|\n",
      "|   00000004|ASSOCIACAO DO PEQ...|             3999|                         16|          0,00|              05|                       null|\n",
      "|   00000005|SERRALHERIA PORTA...|             2240|                         28|          0,00|              05|                       null|\n",
      "|   00000006|ACADEMIA DE BALLE...|             2062|                         49|       1000,00|              01|                       null|\n",
      "|   00000007|ADVOCACIA BERGANT...|             2240|                         49|          0,00|              01|                       null|\n",
      "|   00000008|A.R. ZANOTI E SIL...|             2240|                         49|          0,00|              01|                       null|\n",
      "|   00000009|SUWAN REPRESENTAC...|             2240|                         49|          0,00|              01|                       null|\n",
      "|   00000010|ADUB SERVICOS GER...|             2240|                         28|          0,00|              05|                       null|\n",
      "|   00000011|KAWANISHI MANUTEN...|             2240|                         49|          0,00|              01|                       null|\n",
      "|   00000012|APARTH ADMINISTRA...|             2240|                         49|          0,00|              05|                       null|\n",
      "|   00000013|SAMPAIO SERVICOS ...|             2240|                         49|          0,00|              01|                       null|\n",
      "|   00000014|CLUBE DE MAES DA ...|             3999|                         16|          0,00|              05|                       null|\n",
      "|   00000015|DOS - INSTALACAO ...|             2240|                         49|          0,00|              01|                       null|\n",
      "|   00000016|MICRO-ARTE COMUNI...|             2062|                         49|      10000,00|              05|                       null|\n",
      "|   00000017|ASSOCIACAO VIVER ...|             3999|                         16|          0,00|              05|                       null|\n",
      "|   00000018|AUTOMAR AGROPECUA...|             2062|                         49|          0,00|              05|                       null|\n",
      "|   00000019|DOCENA & DOCENA C...|             2062|                         49|        362,00|              05|                       null|\n",
      "+-----------+--------------------+-----------------+---------------------------+--------------+----------------+---------------------------+\n",
      "only showing top 20 rows\n",
      "\n"
     ]
    }
   ],
   "source": [
    "df_dados_de_empresa = spark.read.csv('./fonte_de_dados/',sep=';',schema=schema)\n",
    "df_dados_de_empresa.show()\n"
   ]
  },
  {
   "cell_type": "markdown",
   "metadata": {},
   "source": [
    "### Analisando o dataframe"
   ]
  },
  {
   "cell_type": "code",
   "execution_count": 11,
   "metadata": {},
   "outputs": [
    {
     "name": "stdout",
     "output_type": "stream",
     "text": [
      "+-------+------------------+--------------------+-----------------+---------------------------+------------------+------------------+---------------------------+\n",
      "|summary|       cnpj_basico|        razao_social|natureza_juridica|qualificacao_do_responsavel|    capital_social|  porte_da_empresa|ente_federativo_responsavel|\n",
      "+-------+------------------+--------------------+-----------------+---------------------------+------------------+------------------+---------------------------+\n",
      "|  count|           4494860|             4494860|          4494860|                    4494860|           4494860|           4494854|                       8019|\n",
      "|   mean|2322903.3175302455|       3.021173095E8|2273.042814236706|          45.90194967357123|               3.4|3.0009984751451326|                       null|\n",
      "| stddev|1333429.6524474057|4.2718016364251304E8| 524.648347834671|         10.781986313474368|2.1908902300206643|1.9679811195391674|                       null|\n",
      "|    min|          00000000|                 ...|             1015|                       0,00|              0,00|                01|       ABADIA DE GOIAS - GO|\n",
      "|    max|          04631961|  �VALDOMIRO AMERICO|             8885|                         65|          99999,00|                05|                ZORTEA - SC|\n",
      "+-------+------------------+--------------------+-----------------+---------------------------+------------------+------------------+---------------------------+\n",
      "\n"
     ]
    }
   ],
   "source": [
    "df_dados_de_empresa.describe().show()"
   ]
  },
  {
   "cell_type": "markdown",
   "metadata": {},
   "source": [
    "#### Vamos criar uma função para validar o CNPJ"
   ]
  },
  {
   "cell_type": "code",
   "execution_count": 60,
   "metadata": {},
   "outputs": [],
   "source": [
    "from itertools import cycle\n",
    "\n",
    "LENGTH_CNPJ = 14\n",
    "\n",
    "def is_cnpj_valido(cnpj: str) -> bool:\n",
    "    if len(cnpj) != LENGTH_CNPJ:\n",
    "        return False\n",
    "\n",
    "    if cnpj in (c * LENGTH_CNPJ for c in \"1234567890\"):\n",
    "        return False\n",
    "\n",
    "    cnpj_r = cnpj[::-1]\n",
    "    for i in range(2, 0, -1):\n",
    "        cnpj_enum = zip(cycle(range(2, 10)), cnpj_r[i:])\n",
    "        dv = sum(map(lambda x: int(x[1]) * x[0], cnpj_enum)) * 10 % 11\n",
    "        if cnpj_r[i - 1:i] != str(dv % 10):\n",
    "            return False\n",
    "\n",
    "    return True"
   ]
  },
  {
   "cell_type": "markdown",
   "metadata": {},
   "source": [
    "#### Agora vamos criar uma nova coluna que vai receber o resultado da validação do CNPJ"
   ]
  },
  {
   "cell_type": "code",
   "execution_count": 69,
   "metadata": {},
   "outputs": [
    {
     "name": "stdout",
     "output_type": "stream",
     "text": [
      "+-----------+\n",
      "|cnpj_valido|\n",
      "+-----------+\n",
      "|      false|\n",
      "+-----------+\n",
      "\n"
     ]
    }
   ],
   "source": [
    "from pyspark.sql.functions import col, lit\n",
    "from pyspark.sql.functions import udf\n",
    "\n",
    "is_cnpj_valido_lambda = udf(lambda x: is_cnpj_valido(x), StringType())\n",
    "df_dados_de_empresa = df_dados_de_empresa.withColumn(\"cnpj_valido\",is_cnpj_valido_lambda(col('cnpj_basico')))"
   ]
  },
  {
   "cell_type": "markdown",
   "metadata": {},
   "source": [
    "### Data analysis"
   ]
  },
  {
   "cell_type": "markdown",
   "metadata": {},
   "source": [
    "Before we define checks on the data, we want to calculate some statistics on the dataset; we call them metrics. As with Deequ, PyDeequ supports a rich set of metrics. For more information, see Test data quality at scale with Deequ or the GitHub repo. In the following example, we use the AnalysisRunner to capture the metrics you’re interested in:"
   ]
  },
  {
   "cell_type": "code",
   "execution_count": 25,
   "metadata": {},
   "outputs": [
    {
     "name": "stdout",
     "output_type": "stream",
     "text": [
      "+-------+--------------------+------------+--------------------+\n",
      "| entity|            instance|        name|               value|\n",
      "+-------+--------------------+------------+--------------------+\n",
      "| Column|qualificacao_do_r...|Completeness|                 1.0|\n",
      "| Column|    porte_da_empresa|Completeness|  0.9999986651419621|\n",
      "| Column|        razao_social|Completeness|                 1.0|\n",
      "| Column|   natureza_juridica|Completeness|                 1.0|\n",
      "|Dataset|                   *|        Size|           4494860.0|\n",
      "| Column|         cnpj_basico|Completeness|                 1.0|\n",
      "| Column|      capital_social|Completeness|                 1.0|\n",
      "| Column|ente_federativo_r...|Completeness|0.001784037767583...|\n",
      "+-------+--------------------+------------+--------------------+\n",
      "\n"
     ]
    }
   ],
   "source": [
    "from pydeequ.analyzers import *\n",
    "analysisResult = AnalysisRunner(spark) \\\n",
    "    .onData(df_dados_de_empresa) \\\n",
    "    .addAnalyzer(Size()) \\\n",
    "    .addAnalyzer(Completeness(\"cnpj_basico\")) \\\n",
    "    .addAnalyzer(Completeness(\"razao_social\")) \\\n",
    "    .addAnalyzer(Completeness(\"natureza_juridica\")) \\\n",
    "    .addAnalyzer(Completeness(\"qualificacao_do_responsavel\")) \\\n",
    "    .addAnalyzer(Completeness(\"capital_social\")) \\\n",
    "    .addAnalyzer(Completeness(\"porte_da_empresa\")) \\\n",
    "    .addAnalyzer(Completeness(\"ente_federativo_responsavel\")) \\\n",
    "    .run()\n",
    "analysisResult_df = AnalyzerContext.successMetricsAsDataFrame(spark, analysisResult)\n",
    "analysisResult_df.show()"
   ]
  },
  {
   "cell_type": "markdown",
   "metadata": {},
   "source": [
    "Com base em uma analise inicial do dataframe, já podemos observar que existem problemas nos campos de porte_da_empresa e ente_federativo_responsavel"
   ]
  },
  {
   "cell_type": "code",
   "execution_count": 28,
   "metadata": {},
   "outputs": [
    {
     "name": "stdout",
     "output_type": "stream",
     "text": [
      "Registros com ente_federativo_responsavel igual a null: 4486841\n",
      "Registros com porte_da_empresa igual a null: 6\n"
     ]
    }
   ],
   "source": [
    "print(f'Registros com ente_federativo_responsavel igual a null: {df_dados_de_empresa.filter(df_dados_de_empresa.ente_federativo_responsavel.isNull()).count()}')\n",
    "print(f'Registros com porte_da_empresa igual a null: {df_dados_de_empresa.filter(df_dados_de_empresa.porte_da_empresa.isNull()).count()}')"
   ]
  },
  {
   "cell_type": "markdown",
   "metadata": {},
   "source": [
    "### Defining and running tests for data"
   ]
  },
  {
   "cell_type": "markdown",
   "metadata": {},
   "source": [
    "```\n",
    "After analyzing and understanding the data, we want to verify that the properties we have derived also hold for new versions of the dataset. By defining assertions on the data distribution as part of a data pipeline, we can ensure that every processed dataset is of high quality, and that any application consuming the data can rely on it.\n",
    "```"
   ]
  },
  {
   "cell_type": "markdown",
   "metadata": {},
   "source": [
    "### Algumas validações que vamos adicionar"
   ]
  },
  {
   "cell_type": "markdown",
   "metadata": {},
   "source": [
    "```\n",
    "CNPJ preenchido e unico\n",
    "\n",
    "Razão Social preenchido\n",
    "\n",
    "Código do porte da empresa precisa ser algum código válido:\n",
    "    00  – NÃO INFORMADO \n",
    "    01  -  MICRO EMPRESA \n",
    "    03 - EMPRESA DE PEQUENO PORTE \n",
    "    05 - DEMAIS\n",
    "    \n",
    "Se o CNPJ é válido de acordo com a função que criamos    \n",
    "```"
   ]
  },
  {
   "cell_type": "code",
   "execution_count": 73,
   "metadata": {},
   "outputs": [
    {
     "data": {
      "text/html": [
       "<div>\n",
       "<style scoped>\n",
       "    .dataframe tbody tr th:only-of-type {\n",
       "        vertical-align: middle;\n",
       "    }\n",
       "\n",
       "    .dataframe tbody tr th {\n",
       "        vertical-align: top;\n",
       "    }\n",
       "\n",
       "    .dataframe thead th {\n",
       "        text-align: right;\n",
       "    }\n",
       "</style>\n",
       "<table border=\"1\" class=\"dataframe\">\n",
       "  <thead>\n",
       "    <tr style=\"text-align: right;\">\n",
       "      <th></th>\n",
       "      <th>check</th>\n",
       "      <th>check_level</th>\n",
       "      <th>check_status</th>\n",
       "      <th>constraint</th>\n",
       "      <th>constraint_status</th>\n",
       "      <th>constraint_message</th>\n",
       "    </tr>\n",
       "  </thead>\n",
       "  <tbody>\n",
       "    <tr>\n",
       "      <th>0</th>\n",
       "      <td>Review Check</td>\n",
       "      <td>Warning</td>\n",
       "      <td>Warning</td>\n",
       "      <td>SizeConstraint(Size(None))</td>\n",
       "      <td>Success</td>\n",
       "      <td></td>\n",
       "    </tr>\n",
       "    <tr>\n",
       "      <th>1</th>\n",
       "      <td>Review Check</td>\n",
       "      <td>Warning</td>\n",
       "      <td>Warning</td>\n",
       "      <td>CompletenessConstraint(Completeness(cnpj_basic...</td>\n",
       "      <td>Success</td>\n",
       "      <td></td>\n",
       "    </tr>\n",
       "    <tr>\n",
       "      <th>2</th>\n",
       "      <td>Review Check</td>\n",
       "      <td>Warning</td>\n",
       "      <td>Warning</td>\n",
       "      <td>CompletenessConstraint(Completeness(razao_soci...</td>\n",
       "      <td>Success</td>\n",
       "      <td></td>\n",
       "    </tr>\n",
       "    <tr>\n",
       "      <th>3</th>\n",
       "      <td>Review Check</td>\n",
       "      <td>Warning</td>\n",
       "      <td>Warning</td>\n",
       "      <td>UniquenessConstraint(Uniqueness(List(cnpj_basi...</td>\n",
       "      <td>Success</td>\n",
       "      <td></td>\n",
       "    </tr>\n",
       "    <tr>\n",
       "      <th>4</th>\n",
       "      <td>Review Check</td>\n",
       "      <td>Warning</td>\n",
       "      <td>Warning</td>\n",
       "      <td>ComplianceConstraint(Compliance(porte_da_empre...</td>\n",
       "      <td>Success</td>\n",
       "      <td></td>\n",
       "    </tr>\n",
       "    <tr>\n",
       "      <th>5</th>\n",
       "      <td>Review Check</td>\n",
       "      <td>Warning</td>\n",
       "      <td>Warning</td>\n",
       "      <td>ComplianceConstraint(Compliance(cnpj_valido co...</td>\n",
       "      <td>Failure</td>\n",
       "      <td>Value: 0.0 does not meet the constraint requir...</td>\n",
       "    </tr>\n",
       "  </tbody>\n",
       "</table>\n",
       "</div>"
      ],
      "text/plain": [
       "          check check_level check_status  \\\n",
       "0  Review Check     Warning      Warning   \n",
       "1  Review Check     Warning      Warning   \n",
       "2  Review Check     Warning      Warning   \n",
       "3  Review Check     Warning      Warning   \n",
       "4  Review Check     Warning      Warning   \n",
       "5  Review Check     Warning      Warning   \n",
       "\n",
       "                                          constraint constraint_status  \\\n",
       "0                         SizeConstraint(Size(None))           Success   \n",
       "1  CompletenessConstraint(Completeness(cnpj_basic...           Success   \n",
       "2  CompletenessConstraint(Completeness(razao_soci...           Success   \n",
       "3  UniquenessConstraint(Uniqueness(List(cnpj_basi...           Success   \n",
       "4  ComplianceConstraint(Compliance(porte_da_empre...           Success   \n",
       "5  ComplianceConstraint(Compliance(cnpj_valido co...           Failure   \n",
       "\n",
       "                                  constraint_message  \n",
       "0                                                     \n",
       "1                                                     \n",
       "2                                                     \n",
       "3                                                     \n",
       "4                                                     \n",
       "5  Value: 0.0 does not meet the constraint requir...  "
      ]
     },
     "execution_count": 73,
     "metadata": {},
     "output_type": "execute_result"
    }
   ],
   "source": [
    "from pydeequ.checks import *\n",
    "from pydeequ.verification import *\n",
    "check = Check(spark, CheckLevel.Warning, \"Review Check\")\n",
    "\n",
    "checkResult = VerificationSuite(spark)\\\n",
    "    .onData(df_dados_de_empresa)\\\n",
    "    .addCheck(check.hasSize(lambda x: x >= 3)\\\n",
    "        .isComplete(\"cnpj_basico\")\\\n",
    "        .isComplete(\"razao_social\")\\\n",
    "        .isUnique(\"cnpj_basico\")\\\n",
    "        .isContainedIn(\"porte_da_empresa\", [\"00\", \"01\", \"03\", \"05\"]) \\ \n",
    "        .isContainedIn(\"cnpj_valido\", ['true']))\\\n",
    "    .run()\n",
    "\n",
    "checkResult_df = VerificationResult.checkResultsAsDataFrame(spark, checkResult)\n",
    "checkResult_df.toPandas()"
   ]
  },
  {
   "cell_type": "markdown",
   "metadata": {},
   "source": [
    "## Conclusão"
   ]
  },
  {
   "cell_type": "markdown",
   "metadata": {},
   "source": [
    "```\n",
    "Conseguimos importar uma fonte de dados e fazer uma analise e validação inicial. Isso pode contribuir para a qualidade dos dados que estamos trabalhando.\n",
    "```"
   ]
  }
 ],
 "metadata": {
  "kernelspec": {
   "display_name": "Python 3",
   "language": "python",
   "name": "python3"
  },
  "language_info": {
   "codemirror_mode": {
    "name": "ipython",
    "version": 3
   },
   "file_extension": ".py",
   "mimetype": "text/x-python",
   "name": "python",
   "nbconvert_exporter": "python",
   "pygments_lexer": "ipython3",
   "version": "3.7.6"
  }
 },
 "nbformat": 4,
 "nbformat_minor": 4
}
